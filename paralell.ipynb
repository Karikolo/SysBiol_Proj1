{
 "cells": [
  {
   "metadata": {},
   "cell_type": "code",
   "outputs": [],
   "execution_count": null,
   "source": [
    "import statistics\n",
    "from multiprocessing import Pool\n",
    "from heatmap_mr_ss import one_simulation\n",
    "\n",
    "#zrównoleglanie pętli kwadratowych\n",
    "\n",
    "def compute_for_mut(mut, sigma_v):\n",
    "    \"\"\"Pomocnicza funkcja obliczająca wartości dla pojedynczego `mut`.\"\"\"\n",
    "    results = []\n",
    "    for sigma in sigma_v:\n",
    "        for_med = []\n",
    "        for _ in range(5):\n",
    "            increase = one_simulation(mut, sigma)\n",
    "            for_med.append(increase)\n",
    "        results.append(statistics.median(for_med))\n",
    "    return results\n",
    "\n",
    "\n",
    "def multi_simulations_parallel(mut_v, sigma_v):\n",
    "    # Posortowanie `mut_v` w kolejności malejącej\n",
    "    mut_vr = sorted(mut_v, reverse=True)\n",
    "\n",
    "    # Maksymalna liczba procesów, jak nie podamy to bierze wszystkie dostępne\n",
    "    n_cores = 4\n",
    "\n",
    "    # Tworzenie puli procesów\n",
    "    with Pool(processes=n_cores) as pool:\n",
    "        # Równoległe wykonywanie funkcji `compute_for_mut` dla każdej wartości z `mut_vr`\n",
    "        matrix_increase = pool.starmap(compute_for_mut, [(mut, sigma_v) for mut in mut_vr])\n",
    "\n",
    "    return matrix_increase\n"
   ],
   "id": "56bef62bf585a1f"
  }
 ],
 "metadata": {},
 "nbformat": 5,
 "nbformat_minor": 9
}
